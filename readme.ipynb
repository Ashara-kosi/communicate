{
 "cells": [
  {
   "cell_type": "markdown",
   "metadata": {},
   "source": [
    "# Communicate Data Findings\n",
    "\n",
    "## August 2020 Baywheels Dataset\n",
    "\n",
    "\n",
    "#### Bay Wheels (previously known as Ford GoBike) is a regional public bike sharing system in the San Francisco Bay Area, California. Bay Wheels is the first regional and large-scale bicycle sharing system deployed in California and on the West Coast of the United States with nearly 500,000 rides since the launch in 2017 and had about 10,000 annual subscribers as of January 2018.\n",
    "\n",
    "\n",
    "### Main Findings\n",
    "- Shorter trips are preffered over longer trips\n",
    "- Saturdays has the highest number or trips\n",
    "- Electric bikes are used more often than docked bikes \n",
    "- Casual users takes more trips than member users do\n",
    "- Electric bikes are used for longer trips\n",
    "- Longer trips tend to be taken more during the weekends\n",
    "- Electric bikes are faster and used for longer distances\n",
    "- There is low correlation/no relationship between duration and distance\n",
    "- Casual customers go on more trips than member customers do\n",
    "- Electric bikes are more preffered through out weekdays and weekends are more busier\n",
    "- Casual customers go on longer trips than member customers do\n",
    "\n",
    "\n",
    "\n",
    "\n",
    "### Resources used\n",
    "- https://stackoverflow.com/questions/19412462/getting-distance-between-two-points-based-on-latitude-longitude\n",
    "- Communicate data finding lessons\n",
    "- https://github.com/kzhang789/Communicate-data-findings\n",
    "\n",
    "\n"
   ]
  },
  {
   "cell_type": "code",
   "execution_count": null,
   "metadata": {},
   "outputs": [],
   "source": [
    "jupyter nbconvert Explanatory_Visualization_Slide_Deck.ipynb --to slides --post serve --template output_toggle"
   ]
  }
 ],
 "metadata": {
  "kernelspec": {
   "display_name": "Python 3",
   "language": "python",
   "name": "python3"
  },
  "language_info": {
   "codemirror_mode": {
    "name": "ipython",
    "version": 3
   },
   "file_extension": ".py",
   "mimetype": "text/x-python",
   "name": "python",
   "nbconvert_exporter": "python",
   "pygments_lexer": "ipython3",
   "version": "3.7.6"
  }
 },
 "nbformat": 4,
 "nbformat_minor": 4
}
